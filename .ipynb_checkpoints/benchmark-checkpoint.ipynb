{
 "cells": [
  {
   "cell_type": "code",
   "execution_count": 1,
   "id": "c6d0344c-9b43-4cb4-aeea-52f423acb4e8",
   "metadata": {},
   "outputs": [
    {
     "name": "stdout",
     "output_type": "stream",
     "text": [
      "847\n"
     ]
    }
   ],
   "source": [
    "# PREPARE DATA FOR BENCHMARKS\n",
    "from backend.cube import Cube\n",
    "import magiccube\n",
    "\n",
    "wr7x7scramble = \"L' b L2 R' 3f f2 F2 3d u F' L 3f B2 3d R2 D2 3r' b2 D' f' D2 f' D2 3l' b F B l2 3f' 3d2 L R2 3d2 3b2 B2 L' d' b' R2 B l' L' F' U' 3u2 d2 b' 3l2 R U' 3b f 3f' d D' U2 f2 R2 L2 D 3r U 3f2 3b 3r' d U' B2 F2 f l R u' R L' d2 u2 3u2 f2 R d b2 f U2 L 3f r' 3u' D' r D2 U 3f2 L2 U2 3b 3u r B' R\"\n",
    "solve = \"\"\"\n",
    "z y2 // inspection\n",
    " // centres\n",
    " // blue\n",
    "r U' r' 4r 3r' // line\n",
    "(z y) x' U 4r 3r' U 4r' 3r 3r2' r2 // line\n",
    "U 5r U (x' z') U' 5r' 4r u' // line\n",
    "x U x U' 3r x' 5r2' 4r2 (x' z') U 4r' // line\n",
    "y 4r' 3r l' U l x' (y x) U' x U r' U 5l D' (r' 5l') // blue\n",
    " // green\n",
    "U 5l U r' 3r' r U' 3r r' U // line\n",
    "x r' U r U 3r' r U' 3r r' (x' z') U' 4r' 3r U' 3r' r z 3l' U U 3l // line\n",
    "z' F U' U' 4l U' r' U U x' 4r x' U' (x z) u u r U' U' r' // line\n",
    "(z x') F 5r' F 4r' U' x r2' z' U' U' r U' U' r' // line\n",
    "(z x') 5r U 5r' x' 3r' r x U 5r' 4r z' U' 3r r' U2 3r' r // green\n",
    " // white\n",
    "z r U' U' x x' D' (3r 4l) U' r' // line\n",
    "F' U' 4r' U' U' x 3r' r U l // line\n",
    "U 3r r' U' 3r' r U 3r r' U' U' x' U' U x' (r' 5l') F r2 5r' 4r // line\n",
    "U' 3r U' U' 3r' 3r2' r2 U' 3r2' r2 // line\n",
    "3r' r U 3r r' U' U' x' U U' x U 3r r' U' 3r' r U' U' r F r U' r2' // white\n",
    " // red\n",
    "F U U 4l' U' x' 3r // line\n",
    "U l' U l // line\n",
    "U r U' r' 5r 4r' U l' 3l U' 5r 4r' U' 5r' 4r // line\n",
    "3l U 4r' 4r U' U' 4r' x r U' r' U r U r' // line\n",
    "U' x' U' 5l' U U 5l U x 4r' 3r 3r' r U 4r 3r' 3r r' 3r r' U2 3r' r // red\n",
    " // yellow / orange\n",
    "(U x') F U' r' F r // line\n",
    "U' U' U r r' U' r U r' r U' 4r 3r' U2 4r' 3r U 5l' // line\n",
    "3r' r U U 4l r' // line\n",
    "3r U' 3r' U U' r U' U' r' U r U r' U 3r U' U' 3r' // line\n",
    "r r' U r U r' U' r U' U' r' //\n",
    "U 5l' U' 3r' r U r U' 3r r' //\n",
    "5r' 4r U r' U' 5r 4r' U r // yellow / orange\n",
    " // edges\n",
    " // F8E\n",
    "U' z' U' R U' R' u R U R' F R' F' R 3u' d U' L' U L 3d d' R U R' F R' F' R u' // WG\n",
    "U R U' R' u z' 4r' 3r z' R U R' F R' F' R z' 4r' 3r z 3d' d F R' F' R u // WR\n",
    "L' U L d (U' y) U' R U' R' u F R' F' R 3u u' R U' R' U' 5u' // WB\n",
    "U R U' z' U' 3r' r z' d R U R' F R' F' R u d' R U' R' z' 3r' r // WO\n",
    "z u u' U U U' L' U L u R U R' F R' F' R u' 6d' F R' F' R 4u' U y R U' R' d' // RB\n",
    "U' L' U L u u U F R' F' R (x' y') 3r r' z R U R' F R' F' R u F R' R R' F' R z' x 4r' 3r // OB\n",
    "z R U' R' z2' U R U' R' d (y z') 4r' 3r 4r' 3r // YB\n",
    "z' U' 6d' L' U L (x y') 4r2' (4r 3r) 4r' 3r 4r' z' R U R' F R' F' R u' U y 5u' // YR\n",
    " // L4E\n",
    "U R U' R' z' 4r 3r2' r2 // fix centres\n",
    "x' U2 (3r 4l) z R U R' F R' F' R z' 3r2' //\n",
    "r' z' R U R' F R' F' R u // YG\n",
    "z' x' 3r' r z' R U R' F R' F' R z 3r r' //\n",
    "U2 U U' 5r' z' R U R' F R' F' R d // GO\n",
    "z' 3r' z' R U R' F R' F' R 3u //\n",
    "5d R U R' F R' F' R u' // YO\n",
    "y z' 3r U' U' 3r x U U 3r U' U' 4r' U U 3l U' U' 3r' U U 3r U' U' 3r' U U 4l' // GR\n",
    " // 3x3x3\n",
    "U' 6r' D x' D R D F F D // yellow cross\n",
    "y R U' R2' U R // yRB\n",
    "y' R' R2 U' R2' U R2 // yGR\n",
    "U R' U R U' R' // uGO\n",
    "L' U U L U' L' U L // yOB\n",
    "U' R' U' R U' R' U R U x' R U' R' U // OLL\n",
    "x 6l' U R' D D R U' R' D D R2 x' U // PLL\n",
    "\"\"\"\n",
    "\n",
    "lines = list(map(lambda x: x.split(\"/\", 1)[0], solve.splitlines()))\n",
    "\n",
    "for i in range(len(lines)):\n",
    "    lines[i] = \"\".join(list(filter(lambda x: x not in \"()\", lines[i])))\n",
    "\n",
    "wr7x7solve = \" \".join(lines)\n",
    "\n",
    "wr7x7solve.split()\n",
    "\n",
    "all_moves = wr7x7scramble.split() + wr7x7solve.split()\n",
    "\n",
    "print(len(all_moves))\n",
    "\n",
    "# magiccube does not support all moves in standard notation - we have to translate some\n",
    "all_moves_magiccube = all_moves.copy()\n",
    "for letter in \"ufrbld\":\n",
    "    for i, move in enumerate(all_moves_magiccube):\n",
    "        all_moves_magiccube[i] = move.replace(letter, f\"{letter.upper()}w\")\n",
    "for letter in \"xyz\":\n",
    "    for i, move in enumerate(all_moves_magiccube):\n",
    "        all_moves_magiccube[i] = move.replace(letter, letter.upper())\n",
    "for i, move in enumerate(all_moves_magiccube):\n",
    "    all_moves_magiccube[i] = move.replace(\"2'\", \"2\")"
   ]
  },
  {
   "cell_type": "code",
   "execution_count": 2,
   "id": "b90180e6-c329-4b0d-9e5d-f8937e94899d",
   "metadata": {},
   "outputs": [],
   "source": [
    "# benchmark my implementation\n",
    "def benchmark_implementation(with_solved, with_serialize):\n",
    "    cube = Cube(7)\n",
    "    for move in all_moves:\n",
    "        cube.move(move)\n",
    "        if with_solved:\n",
    "            solved = cube.is_solved()\n",
    "        if with_serialize:\n",
    "            str = cube.serialize()\n",
    "\n",
    "    assert(cube.is_solved())\n",
    "\n",
    "# benchmark magiccube implementation\n",
    "def benchmark_magiccube(with_solved, with_serialize):\n",
    "    cube = magiccube.Cube(7)\n",
    "    for move in all_moves_magiccube:\n",
    "        cube.rotate(move)\n",
    "        if with_solved:\n",
    "            solved = cube.is_done()\n",
    "        if with_serialize:\n",
    "            str = cube.get_all_faces()\n",
    "\n",
    "    assert(cube.is_done())"
   ]
  },
  {
   "cell_type": "code",
   "execution_count": 3,
   "id": "5f69c439-d946-48d3-b6f6-cc7fc8b06f6e",
   "metadata": {},
   "outputs": [
    {
     "name": "stdout",
     "output_type": "stream",
     "text": [
      "Only perform the moves\n",
      "Our implementation:\n",
      "27.1 ms ± 315 µs per loop (mean ± std. dev. of 7 runs, 10 loops each)\n",
      "magiccube:\n",
      "142 ms ± 33.6 ms per loop (mean ± std. dev. of 7 runs, 10 loops each)\n"
     ]
    }
   ],
   "source": [
    "print(\"Only perform the moves\")\n",
    "print(\"Our implementation:\")\n",
    "%timeit benchmark_implementation(False, False)\n",
    "\n",
    "print(\"magiccube:\")\n",
    "%timeit benchmark_magiccube(False, False)"
   ]
  },
  {
   "cell_type": "code",
   "execution_count": 4,
   "id": "e0bedf48-ade1-4458-9cea-c75656504f99",
   "metadata": {},
   "outputs": [
    {
     "name": "stdout",
     "output_type": "stream",
     "text": [
      "Perform the moves and check whether the cube is solved after each one\n",
      "Our implementation:\n",
      "33.8 ms ± 136 µs per loop (mean ± std. dev. of 7 runs, 10 loops each)\n",
      "magiccube:\n",
      "322 ms ± 453 µs per loop (mean ± std. dev. of 7 runs, 1 loop each)\n"
     ]
    }
   ],
   "source": [
    "print(\"Perform the moves and check whether the cube is solved after each one\")\n",
    "print(\"Our implementation:\")\n",
    "%timeit benchmark_implementation(True, False)\n",
    "\n",
    "print(\"magiccube:\")\n",
    "%timeit benchmark_magiccube(True, False)"
   ]
  },
  {
   "cell_type": "code",
   "execution_count": 5,
   "id": "169610d8-9263-4f27-998b-ef89e443391a",
   "metadata": {},
   "outputs": [
    {
     "name": "stdout",
     "output_type": "stream",
     "text": [
      "Perform the moves, check whether the cube is solved after each move and serialize the state after each move\n",
      "Our implementation:\n",
      "35.7 ms ± 260 µs per loop (mean ± std. dev. of 7 runs, 10 loops each)\n",
      "magiccube:\n",
      "581 ms ± 67.5 ms per loop (mean ± std. dev. of 7 runs, 1 loop each)\n"
     ]
    }
   ],
   "source": [
    "print(\"Perform the moves, check whether the cube is solved after each move and serialize the state after each move\")\n",
    "print(\"Our implementation:\")\n",
    "%timeit benchmark_implementation(True, True)\n",
    "print(\"magiccube:\")\n",
    "%timeit benchmark_magiccube(True, True)"
   ]
  },
  {
   "cell_type": "code",
   "execution_count": null,
   "id": "77f71d36-a417-4a0f-9b52-e7d39c455499",
   "metadata": {},
   "outputs": [],
   "source": [
    "# benchmark my implementation\n",
    "def complete_my():\n",
    "    cube = Cube(7)\n",
    "    for move in all_moves:\n",
    "        cube.move(move)\n",
    "        if with_solved:\n",
    "            solved = cube.is_solved()\n",
    "        if with_serialize:\n",
    "            str = cube.serialize()\n",
    "\n",
    "    assert(cube.is_solved())\n",
    "\n",
    "# benchmark magiccube implementation\n",
    "def complete_magiccube():\n",
    "    cube = magiccube.Cube(7)\n",
    "    for move in all_moves_magiccube:\n",
    "        cube.rotate(move)\n",
    "        if with_solved:\n",
    "            solved = cube.is_done()\n",
    "        if with_serialize:\n",
    "            str = cube.get_all_faces()\n",
    "\n",
    "    assert(cube.is_done())"
   ]
  }
 ],
 "metadata": {
  "kernelspec": {
   "display_name": "Python 3 (ipykernel)",
   "language": "python",
   "name": "python3"
  },
  "language_info": {
   "codemirror_mode": {
    "name": "ipython",
    "version": 3
   },
   "file_extension": ".py",
   "mimetype": "text/x-python",
   "name": "python",
   "nbconvert_exporter": "python",
   "pygments_lexer": "ipython3",
   "version": "3.10.12"
  }
 },
 "nbformat": 4,
 "nbformat_minor": 5
}
